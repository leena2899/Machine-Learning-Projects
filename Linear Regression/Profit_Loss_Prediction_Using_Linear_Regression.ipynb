{
 "cells": [
  {
   "cell_type": "code",
   "execution_count": 111,
   "id": "103a8962",
   "metadata": {},
   "outputs": [],
   "source": [
    "import numpy as np\n",
    "import pandas as pd\n",
    "import matplotlib.pyplot as plt\n",
    "import seaborn as sns\n",
    "%matplotlib inline"
   ]
  },
  {
   "cell_type": "code",
   "execution_count": 112,
   "id": "0ead7ed8",
   "metadata": {},
   "outputs": [
    {
     "data": {
      "text/html": [
       "<div>\n",
       "<style scoped>\n",
       "    .dataframe tbody tr th:only-of-type {\n",
       "        vertical-align: middle;\n",
       "    }\n",
       "\n",
       "    .dataframe tbody tr th {\n",
       "        vertical-align: top;\n",
       "    }\n",
       "\n",
       "    .dataframe thead th {\n",
       "        text-align: right;\n",
       "    }\n",
       "</style>\n",
       "<table border=\"1\" class=\"dataframe\">\n",
       "  <thead>\n",
       "    <tr style=\"text-align: right;\">\n",
       "      <th></th>\n",
       "      <th>R&amp;D Spend</th>\n",
       "      <th>Administration</th>\n",
       "      <th>Marketing Spend</th>\n",
       "      <th>State</th>\n",
       "      <th>Profit</th>\n",
       "    </tr>\n",
       "  </thead>\n",
       "  <tbody>\n",
       "    <tr>\n",
       "      <th>0</th>\n",
       "      <td>165349.20</td>\n",
       "      <td>136897.80</td>\n",
       "      <td>471784.10</td>\n",
       "      <td>New York</td>\n",
       "      <td>192261.83</td>\n",
       "    </tr>\n",
       "    <tr>\n",
       "      <th>1</th>\n",
       "      <td>162597.70</td>\n",
       "      <td>151377.59</td>\n",
       "      <td>443898.53</td>\n",
       "      <td>California</td>\n",
       "      <td>191792.06</td>\n",
       "    </tr>\n",
       "    <tr>\n",
       "      <th>2</th>\n",
       "      <td>153441.51</td>\n",
       "      <td>101145.55</td>\n",
       "      <td>407934.54</td>\n",
       "      <td>Florida</td>\n",
       "      <td>191050.39</td>\n",
       "    </tr>\n",
       "    <tr>\n",
       "      <th>3</th>\n",
       "      <td>144372.41</td>\n",
       "      <td>118671.85</td>\n",
       "      <td>383199.62</td>\n",
       "      <td>New York</td>\n",
       "      <td>182901.99</td>\n",
       "    </tr>\n",
       "    <tr>\n",
       "      <th>4</th>\n",
       "      <td>142107.34</td>\n",
       "      <td>91391.77</td>\n",
       "      <td>366168.42</td>\n",
       "      <td>Florida</td>\n",
       "      <td>166187.94</td>\n",
       "    </tr>\n",
       "  </tbody>\n",
       "</table>\n",
       "</div>"
      ],
      "text/plain": [
       "   R&D Spend  Administration  Marketing Spend       State     Profit\n",
       "0  165349.20       136897.80        471784.10    New York  192261.83\n",
       "1  162597.70       151377.59        443898.53  California  191792.06\n",
       "2  153441.51       101145.55        407934.54     Florida  191050.39\n",
       "3  144372.41       118671.85        383199.62    New York  182901.99\n",
       "4  142107.34        91391.77        366168.42     Florida  166187.94"
      ]
     },
     "execution_count": 112,
     "metadata": {},
     "output_type": "execute_result"
    }
   ],
   "source": [
    "#Importing Dataset and extracting the Independent and Dependent Variables\n",
    "companies = pd.read_csv('1000_Companies.csv')\n",
    "x = companies.iloc[:, :-1].values #x cotains all rows except last column\n",
    "y = companies.iloc[:, 4].values #y contains all rows of 4th column i.e profit column which will be predicted by our model\n",
    "\n",
    "companies.head() "
   ]
  },
  {
   "cell_type": "code",
   "execution_count": 113,
   "id": "9f60fa6f",
   "metadata": {},
   "outputs": [
    {
     "data": {
      "text/plain": [
       "<AxesSubplot:>"
      ]
     },
     "execution_count": 113,
     "metadata": {},
     "output_type": "execute_result"
    },
    {
     "data": {
      "image/png": "[encoded data removed]",
      "text/plain": [
       "<Figure size 432x288 with 2 Axes>"
      ]
     },
     "metadata": {
      "needs_background": "light"
     },
     "output_type": "display_data"
    }
   ],
   "source": [
    "#Data Visualization\n",
    "#Building the correlation matrix\n",
    "\n",
    "sns.heatmap(companies.corr())"
   ]
  },
  {
   "cell_type": "code",
   "execution_count": 114,
   "id": "d797792d",
   "metadata": {},
   "outputs": [
    {
     "name": "stdout",
     "output_type": "stream",
     "text": [
      "[0.0 0.0 1.0 165349.2 136897.8 471784.1]\n"
     ]
    }
   ],
   "source": [
    "#Encoding categorical data\n",
    "from sklearn.preprocessing import LabelEncoder, OneHotEncoder\n",
    "from sklearn.compose import ColumnTransformer\n",
    "labelencoder = LabelEncoder()\n",
    "x[:, 3] = labelencoder.fit_transform(x[:, 3])  #transforming 3rd column(i.e State column) data into numeric values\n",
    " \n",
    "#onehotencoder = OneHotEncoder(categorical_features = [3]) this line will not work  because latest build of sklearn \n",
    "#library removed categorical_features parameter so we use following code :\n",
    "\n",
    "ct = ColumnTransformer([('State', OneHotEncoder(), [3])], remainder = 'passthrough')\n",
    "x = ct.fit_transform(x)\n",
    "\n",
    "print(x[0])"
   ]
  },
  {
   "cell_type": "code",
   "execution_count": 115,
   "id": "789ad0cd",
   "metadata": {},
   "outputs": [],
   "source": [
    "#Avoiding Dumy variable\n",
    "x = x[:, 1:]\n"
   ]
  },
  {
   "cell_type": "code",
   "execution_count": 116,
   "id": "dbcaace7",
   "metadata": {},
   "outputs": [],
   "source": [
    "#Spllitting the dataset into Training set and Testing set\n",
    "from sklearn.model_selection import train_test_split\n",
    "x_train, x_test, y_train, y_test = train_test_split(x,y, test_size = 0.3 , random_state = 0)"
   ]
  },
  {
   "cell_type": "code",
   "execution_count": 117,
   "id": "e654a76b",
   "metadata": {},
   "outputs": [
    {
     "data": {
      "text/plain": [
       "LinearRegression()"
      ]
     },
     "execution_count": 117,
     "metadata": {},
     "output_type": "execute_result"
    }
   ],
   "source": [
    "#Fitting Multiple Linear Regression to the Training set\n",
    "from sklearn.linear_model import LinearRegression\n",
    "regressor = LinearRegression()\n",
    "regressor.fit(x_train, y_train)"
   ]
  },
  {
   "cell_type": "code",
   "execution_count": 118,
   "id": "5166b36a",
   "metadata": {},
   "outputs": [
    {
     "name": "stdout",
     "output_type": "stream",
     "text": [
      "[ 89394.23575034  88027.95819517  94508.53314457 175549.39580411\n",
      "  83150.97998076 110365.61149629 131468.83716136  91080.37178898\n",
      " 164499.09125684  52845.80977359  66508.01269671 150384.61048743\n",
      " 126593.26898994  58880.41811176 177293.42838502  75039.2984996\n",
      " 118001.51199867 164327.97934562 174978.3486738  182006.18783198\n",
      " 124009.89479313  85265.30904178 180871.77326231  83737.38254066\n",
      " 104639.96676191 100860.13285751  55972.52100482  56567.46734375\n",
      "  68458.11806781 211528.90031709 120537.16479697 111372.47323668\n",
      " 101263.40023154 137751.91749039  63521.80637151 108499.76514776\n",
      " 185959.70818605 171302.67161101 174510.71530106 117423.7029346\n",
      "  96497.33588967 165207.59035383 107363.92335611  49811.4527348\n",
      " 116263.78584195  58173.63390515 158250.37929294  78215.23575465\n",
      " 159564.20687057 130917.09063892 184767.68475625 174475.46214047\n",
      "  93357.21436254  78070.21614566 180680.32254511  84147.23613675\n",
      " 142703.70618687 170532.55216598  84106.25650591 105090.52500577\n",
      " 141460.38501846  52204.66546718 141550.9552702  139027.34499595\n",
      "  97915.19864045 113330.88933413 126580.37624585 152012.57019575\n",
      "  58554.54557572 174151.30439893 124297.51011544 168828.3547634\n",
      "  90978.62368746 156055.5134753   83899.89133626  77605.90540592\n",
      " 120171.73503531  93139.6809531  138722.95859019 143316.19613635\n",
      " 171007.74827819 139787.43410336 106155.00042109 155377.09901688\n",
      " 139882.8805955  109965.78833567  69236.26854898  87897.26817205\n",
      " 139838.16437179 148348.81407659 157805.27734126  58073.89307545\n",
      "  93467.27800521 112388.51035806  56241.58989897 107202.27922496\n",
      " 147164.52909795 152021.16859442 167716.59309735 118411.94084155\n",
      " 120521.68778697 138824.99130438 157415.77218075 121722.87699759\n",
      "  86837.95165894 104519.30215394  95098.38462502 178319.2161538\n",
      " 181731.03583495 109623.57403517 165008.96853819 167566.11718638\n",
      " 157891.26077027 174705.33044361 169961.61699629  51830.63249794\n",
      " 176716.47926846 104385.45558973  82299.73871682 138741.01996394\n",
      " 144080.30164431 161519.47125154 169518.51444392 120208.70790501\n",
      " 158715.54987253 109858.30414411 169586.7337913   60306.02422931\n",
      " 158779.46536236 157910.17236407 174433.62265998 156180.18956136\n",
      " 103345.91533488  85379.67183485 141311.06135622 165822.3770926\n",
      " 120941.28721566 173276.715175   100223.56749937  81778.39119642\n",
      " 178424.97101646 101418.16567313  70220.78418999  90003.00363939\n",
      "  60942.30682484  68622.35127966  72438.00570718 176692.40385979\n",
      "  89400.82677738 133731.93681672  92374.99540316  88243.6012536\n",
      " 172606.46887065  60439.29861913 168871.05880068 166207.57819004\n",
      " 165273.50995012 101891.64698888 181530.69914461  73366.62728452\n",
      "  90874.01143413 135487.40029839  64624.97925867  71491.62006782\n",
      "  60297.43073643 184174.39868219 176156.43917906 158798.38648791\n",
      " 141214.76473207 154493.19367306  58238.98613499  90316.55089369\n",
      " 152764.06581715 168251.9777165   72202.70342092 115813.23241289\n",
      "  79764.65810566 149701.33422321 116613.17123108 129876.11824942\n",
      " 174400.65647319 312665.47576099 145987.70287047 150520.75681253\n",
      "  85796.39922746  69623.76633785  69753.60142397  68595.69160509\n",
      " 120480.70816595  89429.49381377 166675.04075392 125190.01858469\n",
      "  66916.43907081 136411.98637657 118205.5804867  165653.84463248\n",
      " 168509.92819924 146728.0206421  141251.73759196 108877.23741383\n",
      "  82160.44548023 156369.92058906 136275.86877968  60259.5931162\n",
      " 143108.12098503 176772.36853695  87039.15301373 136326.5990383\n",
      " 169517.65459427  94844.73340034 136975.774283   126129.8228168\n",
      "  27015.68780387  70713.17710934 166749.27896082 138757.92418611\n",
      " 127071.34194321 137579.09068486  82400.58053198 130537.3312914\n",
      " 169861.58848641 108618.13470198 123488.97771338 117303.61858393\n",
      "  60175.32929256 126368.85689094 179516.1013894   53485.52686095\n",
      " 122452.47442584 173074.79118633  69703.16364267 151993.36140769\n",
      " 134393.69518148  59958.65092876  85414.63260617  84586.0443535\n",
      "  98289.23161558  75977.37822741 128086.80208227 110197.08385098\n",
      "  59532.17290248 101579.81461908 147631.70704917 158990.98472708\n",
      " 161334.03937424 185433.4893281   55447.96241566 153241.22421318\n",
      "  66972.3283393  164018.43885246  63782.04872107  58664.31192725\n",
      " 140401.36099247  61880.38655068  61147.80252603 129619.02772399\n",
      " 168264.30309806 120589.6147647   65185.29913613  27119.31894947\n",
      " 146657.22655076 177918.53313371 175936.60908799 138779.70770833\n",
      "  76656.64291568 180441.85584331 105347.6107164  102191.16195923\n",
      " 173307.23422362 129027.46616403 144476.97799131 121204.68426313\n",
      " 123540.00045913 105375.697701    73943.00903856 110884.08708828\n",
      "  80637.68289183 151804.19775232 125950.68478209  65256.6654048\n",
      "  76879.05245786  92692.56211766 156175.59793363 144135.33105334\n",
      " 164411.95549105  52973.77423876  99649.48549642 160010.74883135\n",
      " 142194.9716127   89514.32501366  98432.53162311 170566.94067192\n",
      " 181633.58688384 140176.65160135 159399.40619833 142465.82435166\n",
      " 344276.21882751 139561.29758811 144068.5516074  117843.8243773 ]\n"
     ]
    }
   ],
   "source": [
    "#predicting the test set results\n",
    "y_pred = regressor.predict(x_test)\n",
    "print(y_pred)"
   ]
  },
  {
   "cell_type": "code",
   "execution_count": 119,
   "id": "3d260f47",
   "metadata": {},
   "outputs": [
    {
     "name": "stdout",
     "output_type": "stream",
     "text": [
      "[-7.89616003e+02 -5.51149301e+02  5.26047095e-01  9.78530820e-01\n",
      "  9.80946128e-02]\n"
     ]
    }
   ],
   "source": [
    "#Calculating the coefficients\n",
    "print(regressor.coef_)"
   ]
  },
  {
   "cell_type": "code",
   "execution_count": 120,
   "id": "dd0507d2",
   "metadata": {},
   "outputs": [
    {
     "name": "stdout",
     "output_type": "stream",
     "text": [
      "-65676.83905538137\n"
     ]
    }
   ],
   "source": [
    "#calculating the Intercept\n",
    "print(regressor.intercept_)"
   ]
  },
  {
   "cell_type": "code",
   "execution_count": 121,
   "id": "33857e85",
   "metadata": {},
   "outputs": [
    {
     "data": {
      "text/plain": [
       "0.9311120236268362"
      ]
     },
     "execution_count": 121,
     "metadata": {},
     "output_type": "execute_result"
    }
   ],
   "source": [
    "#calculating the R squared value\n",
    "\n",
    "from sklearn.metrics import r2_score\n",
    "r2_score(y_test, y_pred)"
   ]
  },
  {
   "cell_type": "code",
   "execution_count": null,
   "id": "c9e806e5",
   "metadata": {},
   "outputs": [],
   "source": [
    "#Success !!! Our predicted profit value with 93% accuraccy"
   ]
  },
  {
   "cell_type": "code",
   "execution_count": null,
   "id": "223f9fcd",
   "metadata": {},
   "outputs": [],
   "source": []
  }
 ],
 "metadata": {
  "kernelspec": {
   "display_name": "Python 3 (ipykernel)",
   "language": "python",
   "name": "python3"
  },
  "language_info": {
   "codemirror_mode": {
    "name": "ipython",
    "version": 3
   },
   "file_extension": ".py",
   "mimetype": "text/x-python",
   "name": "python",
   "nbconvert_exporter": "python",
   "pygments_lexer": "ipython3",
   "version": "3.9.12"
  }
 },
 "nbformat": 4,
 "nbformat_minor": 5
}
